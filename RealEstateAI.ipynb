{
 "cells": [
  {
   "cell_type": "code",
   "execution_count": 236,
   "metadata": {},
   "outputs": [],
   "source": [
    "import numpy as np\n",
    "import pandas as pd\n",
    "import seaborn as sns\n",
    "import matplotlib.pyplot as plt\n",
    "from sklearn.linear_model import Ridge, Lasso, ElasticNet, LinearRegression, RidgeCV, LassoCV, ElasticNetCV\n",
    "from sklearn.metrics import mean_squared_error, r2_score\n",
    "from sklearn.preprocessing import StandardScaler\n",
    "from sklearn.model_selection import train_test_split\n",
    "RANDOM_SEED = 0"
   ]
  },
  {
   "cell_type": "code",
   "execution_count": 237,
   "metadata": {},
   "outputs": [
    {
     "data": {
      "text/html": [
       "<div>\n",
       "<style scoped>\n",
       "    .dataframe tbody tr th:only-of-type {\n",
       "        vertical-align: middle;\n",
       "    }\n",
       "\n",
       "    .dataframe tbody tr th {\n",
       "        vertical-align: top;\n",
       "    }\n",
       "\n",
       "    .dataframe thead th {\n",
       "        text-align: right;\n",
       "    }\n",
       "</style>\n",
       "<table border=\"1\" class=\"dataframe\">\n",
       "  <thead>\n",
       "    <tr style=\"text-align: right;\">\n",
       "      <th></th>\n",
       "      <th>price</th>\n",
       "      <th>area</th>\n",
       "      <th>bedrooms</th>\n",
       "      <th>bathrooms</th>\n",
       "      <th>stories</th>\n",
       "      <th>mainroad</th>\n",
       "      <th>guestroom</th>\n",
       "      <th>basement</th>\n",
       "      <th>hotwaterheating</th>\n",
       "      <th>airconditioning</th>\n",
       "      <th>parking</th>\n",
       "      <th>prefarea</th>\n",
       "      <th>furnishingstatus</th>\n",
       "    </tr>\n",
       "  </thead>\n",
       "  <tbody>\n",
       "    <tr>\n",
       "      <th>0</th>\n",
       "      <td>13300000</td>\n",
       "      <td>7420</td>\n",
       "      <td>4</td>\n",
       "      <td>2</td>\n",
       "      <td>3</td>\n",
       "      <td>1</td>\n",
       "      <td>0</td>\n",
       "      <td>0</td>\n",
       "      <td>0</td>\n",
       "      <td>1</td>\n",
       "      <td>2</td>\n",
       "      <td>1</td>\n",
       "      <td>1</td>\n",
       "    </tr>\n",
       "    <tr>\n",
       "      <th>1</th>\n",
       "      <td>12250000</td>\n",
       "      <td>8960</td>\n",
       "      <td>4</td>\n",
       "      <td>4</td>\n",
       "      <td>4</td>\n",
       "      <td>1</td>\n",
       "      <td>0</td>\n",
       "      <td>0</td>\n",
       "      <td>0</td>\n",
       "      <td>1</td>\n",
       "      <td>3</td>\n",
       "      <td>0</td>\n",
       "      <td>1</td>\n",
       "    </tr>\n",
       "    <tr>\n",
       "      <th>2</th>\n",
       "      <td>12250000</td>\n",
       "      <td>9960</td>\n",
       "      <td>3</td>\n",
       "      <td>2</td>\n",
       "      <td>2</td>\n",
       "      <td>1</td>\n",
       "      <td>0</td>\n",
       "      <td>1</td>\n",
       "      <td>0</td>\n",
       "      <td>0</td>\n",
       "      <td>2</td>\n",
       "      <td>1</td>\n",
       "      <td>2</td>\n",
       "    </tr>\n",
       "    <tr>\n",
       "      <th>3</th>\n",
       "      <td>12215000</td>\n",
       "      <td>7500</td>\n",
       "      <td>4</td>\n",
       "      <td>2</td>\n",
       "      <td>2</td>\n",
       "      <td>1</td>\n",
       "      <td>0</td>\n",
       "      <td>1</td>\n",
       "      <td>0</td>\n",
       "      <td>1</td>\n",
       "      <td>3</td>\n",
       "      <td>1</td>\n",
       "      <td>1</td>\n",
       "    </tr>\n",
       "    <tr>\n",
       "      <th>4</th>\n",
       "      <td>11410000</td>\n",
       "      <td>7420</td>\n",
       "      <td>4</td>\n",
       "      <td>1</td>\n",
       "      <td>2</td>\n",
       "      <td>1</td>\n",
       "      <td>1</td>\n",
       "      <td>1</td>\n",
       "      <td>0</td>\n",
       "      <td>1</td>\n",
       "      <td>2</td>\n",
       "      <td>0</td>\n",
       "      <td>1</td>\n",
       "    </tr>\n",
       "  </tbody>\n",
       "</table>\n",
       "</div>"
      ],
      "text/plain": [
       "      price  area  bedrooms  bathrooms  stories  mainroad  guestroom  \\\n",
       "0  13300000  7420         4          2        3         1          0   \n",
       "1  12250000  8960         4          4        4         1          0   \n",
       "2  12250000  9960         3          2        2         1          0   \n",
       "3  12215000  7500         4          2        2         1          0   \n",
       "4  11410000  7420         4          1        2         1          1   \n",
       "\n",
       "   basement  hotwaterheating  airconditioning  parking  prefarea  \\\n",
       "0         0                0                1        2         1   \n",
       "1         0                0                1        3         0   \n",
       "2         1                0                0        2         1   \n",
       "3         1                0                1        3         1   \n",
       "4         1                0                1        2         0   \n",
       "\n",
       "   furnishingstatus  \n",
       "0                 1  \n",
       "1                 1  \n",
       "2                 2  \n",
       "3                 1  \n",
       "4                 1  "
      ]
     },
     "execution_count": 237,
     "metadata": {},
     "output_type": "execute_result"
    }
   ],
   "source": [
    "df = pd.read_csv(PATH)\n",
    "df.head()"
   ]
  },
  {
   "cell_type": "code",
   "execution_count": 238,
   "metadata": {},
   "outputs": [
    {
     "data": {
      "text/plain": [
       "price               0\n",
       "area                0\n",
       "bedrooms            0\n",
       "bathrooms           0\n",
       "stories             0\n",
       "mainroad            0\n",
       "guestroom           0\n",
       "basement            0\n",
       "hotwaterheating     0\n",
       "airconditioning     0\n",
       "parking             0\n",
       "prefarea            0\n",
       "furnishingstatus    0\n",
       "dtype: int64"
      ]
     },
     "execution_count": 238,
     "metadata": {},
     "output_type": "execute_result"
    }
   ],
   "source": [
    "df.isna().sum()     # no missing values "
   ]
  },
  {
   "cell_type": "code",
   "execution_count": 239,
   "metadata": {},
   "outputs": [],
   "source": [
    "X = df.drop('price', axis=1).values"
   ]
  },
  {
   "cell_type": "code",
   "execution_count": 240,
   "metadata": {},
   "outputs": [
    {
     "data": {
      "text/plain": [
       "array([13300000, 12250000, 12250000, 12215000, 11410000])"
      ]
     },
     "execution_count": 240,
     "metadata": {},
     "output_type": "execute_result"
    }
   ],
   "source": [
    "y = df['price'].values  # target\n",
    "y[:5]"
   ]
  },
  {
   "cell_type": "code",
   "execution_count": 241,
   "metadata": {},
   "outputs": [],
   "source": [
    "def evaluate(model, dataset):\n",
    "\n",
    "  X, y = dataset\n",
    "  y_pred = model.predict(X)\n",
    "  print(f'RMSE: {np.sqrt(mean_squared_error(y, y_pred)):.2f}')\n",
    "  print(f'R2: {r2_score(y, y_pred):.2f}')"
   ]
  },
  {
   "cell_type": "code",
   "execution_count": 242,
   "metadata": {},
   "outputs": [],
   "source": [
    "X_train, X_test, y_train, y_test = train_test_split(X, y, test_size=0.3, random_state=RANDOM_SEED)\n",
    "\n",
    "\n",
    "ss = StandardScaler()\n",
    "X_train = ss.fit_transform(X_train)  \n",
    "X_test= ss.transform(X_test)"
   ]
  },
  {
   "cell_type": "code",
   "execution_count": 243,
   "metadata": {},
   "outputs": [],
   "source": [
    "def evaluate_mse(model, dataset):\n",
    "\n",
    "    X, y = dataset\n",
    "\n",
    "    y_pred = model.predict(X)\n",
    "\n",
    "    return mean_squared_error(y, y_pred)\n",
    "\n",
    "def calculate_residuals(model, dataset):\n",
    "\n",
    "    X, y = dataset\n",
    "\n",
    "    y_pred = model.predict(X)\n",
    "    \n",
    "    return y - y_pred"
   ]
  },
  {
   "cell_type": "markdown",
   "metadata": {},
   "source": [
    "#### LINEAR MODEL"
   ]
  },
  {
   "cell_type": "code",
   "execution_count": 244,
   "metadata": {},
   "outputs": [
    {
     "name": "stdout",
     "output_type": "stream",
     "text": [
      "RMSE: 1097693.37\n",
      "R2: 0.66\n",
      "RMSE: 980758.42\n",
      "R2: 0.72\n"
     ]
    }
   ],
   "source": [
    "lr = LinearRegression()\n",
    "lr.fit(X_train, y_train)\n",
    "\n",
    "evaluate(lr, (X_train, y_train))\n",
    "evaluate(lr, (X_test, y_test))"
   ]
  },
  {
   "cell_type": "markdown",
   "metadata": {},
   "source": [
    "#### RIDGE MODEL"
   ]
  },
  {
   "cell_type": "code",
   "execution_count": 245,
   "metadata": {},
   "outputs": [
    {
     "name": "stdout",
     "output_type": "stream",
     "text": [
      "RMSE: 1237907.34\n",
      "R2: 0.56\n",
      "RMSE: 1125020.29\n",
      "R2: 0.64\n"
     ]
    }
   ],
   "source": [
    "ridgeModel = Ridge(alpha=500)\n",
    "ridgeModel.fit(X_train, y_train)\n",
    "\n",
    "evaluate(ridgeModel, (X_train, y_train))\n",
    "evaluate(ridgeModel, (X_test, y_test))"
   ]
  },
  {
   "cell_type": "markdown",
   "metadata": {},
   "source": [
    "#### LASSO MODEL"
   ]
  },
  {
   "cell_type": "code",
   "execution_count": 246,
   "metadata": {},
   "outputs": [
    {
     "name": "stdout",
     "output_type": "stream",
     "text": [
      "RMSE: 1098784.13\n",
      "R2: 0.66\n",
      "RMSE: 973437.75\n",
      "R2: 0.73\n"
     ]
    }
   ],
   "source": [
    "lassoModel = Lasso(alpha=20000)\n",
    "lassoModel.fit(X_train, y_train)\n",
    "\n",
    "evaluate(lassoModel, (X_train, y_train))\n",
    "evaluate(lassoModel, (X_test, y_test))"
   ]
  },
  {
   "cell_type": "markdown",
   "metadata": {},
   "source": [
    "#### ELASTIC NET MODEL\n"
   ]
  },
  {
   "cell_type": "code",
   "execution_count": 247,
   "metadata": {},
   "outputs": [
    {
     "name": "stdout",
     "output_type": "stream",
     "text": [
      "RMSE: 1098784.13\n",
      "R2: 0.66\n",
      "RMSE: 973437.75\n",
      "R2: 0.73\n"
     ]
    }
   ],
   "source": [
    "elasticNetModel = ElasticNet(alpha=20000, l1_ratio=1)\n",
    "elasticNetModel.fit(X_train, y_train)\n",
    "\n",
    "evaluate(elasticNetModel, (X_train, y_train))\n",
    "evaluate(elasticNetModel, (X_test, y_test))"
   ]
  },
  {
   "cell_type": "markdown",
   "metadata": {},
   "source": [
    "#### CROSS VALIDATION"
   ]
  },
  {
   "cell_type": "code",
   "execution_count": 248,
   "metadata": {},
   "outputs": [
    {
     "data": {
      "text/plain": [
       "np.float64(0.6536369870517889)"
      ]
     },
     "execution_count": 248,
     "metadata": {},
     "output_type": "execute_result"
    }
   ],
   "source": [
    "from sklearn.model_selection import KFold\n",
    "\n",
    "# CREAZIONE KFOLD\n",
    "kf = KFold(n_splits=5, shuffle=True, random_state=RANDOM_SEED)\n",
    "kf.get_n_splits(X)\n",
    "\n",
    "train_score = []\n",
    "test_score = []\n",
    "\n",
    "for train_index, test_index in kf.split(X):\n",
    "\t\n",
    "    X_train, X_test = X[train_index], X[test_index]\n",
    "    y_train, y_test = y[train_index], y[test_index]\n",
    "\n",
    "    ss = StandardScaler()\n",
    "    X_train = ss.fit_transform(X_train)\n",
    "    X_test = ss.transform(X_test)\n",
    "\n",
    "    lr = LinearRegression()\n",
    "    lr.fit(X_train, y_train)\n",
    "\n",
    "    r2_train = r2_score(y_train, lr.predict(X_train))\n",
    "    r2_test = r2_score(y_test, lr.predict(X_test))\n",
    "\n",
    "    train_score.append(r2_train)\n",
    "    test_score.append(r2_test)\n",
    "\n",
    "# CREAZIONE DIZIONARIO\n",
    "scores = {\"train_score\":np.array(train_score), \"test_score\":np.array(test_score)} \n",
    "\n",
    "# LETTURA RISULTATI\n",
    "scores[\"test_score\"].mean()"
   ]
  },
  {
   "cell_type": "markdown",
   "metadata": {},
   "source": [
    "#### MSE COMPARISON"
   ]
  },
  {
   "cell_type": "code",
   "execution_count": 249,
   "metadata": {},
   "outputs": [
    {
     "data": {
      "image/png": "[encoded data removed]",
      "text/plain": [
       "<Figure size 1000x600 with 1 Axes>"
      ]
     },
     "metadata": {},
     "output_type": "display_data"
    }
   ],
   "source": [
    "plt.figure(figsize=(10, 6))\n",
    "models = ['Ridge', 'Lasso', 'Elastic Net']\n",
    "mse_values = [evaluate_mse(ridgeModel, (X_train, y_train)), evaluate_mse(lassoModel, (X_train, y_train)), evaluate_mse(elasticNetModel, (X_train, y_train))]\n",
    "plt.bar(models, mse_values)\n",
    "plt.title('MSE COMPARISON')\n",
    "plt.ylabel('Mean Squared Error')\n",
    "plt.show()"
   ]
  },
  {
   "cell_type": "markdown",
   "metadata": {},
   "source": [
    "#### RESIDUALS DISTRIBUTION"
   ]
  },
  {
   "cell_type": "code",
   "execution_count": 250,
   "metadata": {},
   "outputs": [
    {
     "data": {
      "image/png": "[encoded data removed]",
      "text/plain": [
       "<Figure size 1500x500 with 3 Axes>"
      ]
     },
     "metadata": {},
     "output_type": "display_data"
    }
   ],
   "source": [
    "fig, (ax1, ax2, ax3) = plt.subplots(1, 3, figsize=(15, 5))\n",
    "sns.histplot(calculate_residuals(ridgeModel, (X_test, y_test)), kde=True, ax=ax1)\n",
    "ax1.set_title('Residui Ridge')\n",
    "sns.histplot(calculate_residuals(lassoModel, (X_test, y_test)), kde=True, ax=ax2)\n",
    "ax2.set_title('Residui Lasso')\n",
    "sns.histplot(calculate_residuals(elasticNetModel, (X_test, y_test)), kde=True, ax=ax3)\n",
    "ax3.set_title('Residui Elastic Net')\n",
    "plt.tight_layout()\n",
    "plt.show()"
   ]
  },
  {
   "cell_type": "markdown",
   "metadata": {},
   "source": [
    "#### COEFFICIENTS TREND"
   ]
  },
  {
   "cell_type": "code",
   "execution_count": null,
   "metadata": {},
   "outputs": [],
   "source": [
    "alphas_ridge = np.logspace(-6, 6, 100)\n",
    "alphas_lasso = np.logspace(-6, 6, 100)\n",
    "alphas_elastic_net = np.logspace(-6, 6, 100)\n",
    "l1_ratios = np.linspace(0, 1, 100)\n",
    "\n",
    "# Ridge Regression\n",
    "ridge_cv = RidgeCV(alphas=alphas_ridge, cv=5)\n",
    "ridge_cv.fit(X_train, y_train)\n",
    "best_alpha_ridge = ridge_cv.alpha_\n",
    "ridge_model = Ridge(alpha=best_alpha_ridge)\n",
    "ridge_model.fit(X_train, y_train)\n",
    "ridge_coefficients = ridge_model.coef_\n",
    "\n",
    "# Lasso Regression\n",
    "lasso_cv = LassoCV(alphas=alphas_lasso, cv=5)\n",
    "lasso_cv.fit(X_train, y_train)\n",
    "best_alpha_lasso = lasso_cv.alpha_\n",
    "lasso_model = Lasso(alpha=best_alpha_lasso)\n",
    "lasso_model.fit(X_train, y_train)\n",
    "lasso_coefficients = lasso_model.coef_\n",
    "\n",
    "# Elastic Net Regression\n",
    "elastic_net_cv = ElasticNetCV(alphas=alphas_elastic_net, l1_ratio=l1_ratios, cv=5)\n",
    "elastic_net_cv.fit(X_train, y_train)\n",
    "best_alpha_elastic_net = elastic_net_cv.alpha_\n",
    "best_l1_ratio = elastic_net_cv.l1_ratio_\n",
    "elastic_net_model = ElasticNet(alpha=best_alpha_elastic_net, l1_ratio=best_l1_ratio)\n",
    "elastic_net_model.fit(X_train, y_train)\n",
    "elastic_net_coefficients = elastic_net_model.coef_\n",
    "\n",
    "plt.figure(figsize=(16, 6))\n",
    "\n",
    "# Ridge\n",
    "plt.subplot(1, 3, 1)\n",
    "for i, coef in enumerate(ridge_coefficients):\n",
    "    plt.plot(np.log(alphas_ridge), [coef] * len(alphas_ridge), label=f'{df.columns[i+1]}')\n",
    "plt.xlabel('log(alpha)')\n",
    "plt.ylabel('Coefficienti')\n",
    "plt.title('Ridge Regression')\n",
    "plt.legend(loc='center left', bbox_to_anchor=(1, 0.5))\n",
    "\n",
    "# Lasso\n",
    "plt.subplot(1, 3, 2)\n",
    "for i, coef in enumerate(lasso_coefficients):\n",
    "    plt.plot(np.log(alphas_lasso), [coef] * len(alphas_lasso), label=f'{df.columns[i+1]}')\n",
    "plt.xlabel('log(alpha)')\n",
    "plt.ylabel('Coefficienti')\n",
    "plt.title('Lasso Regression')\n",
    "plt.legend(loc='center left', bbox_to_anchor=(1, 0.5))\n",
    "\n",
    "# Elastic Net   \n",
    "plt.subplot(1, 3, 3)\n",
    "for i, coef in enumerate(elastic_net_coefficients):\n",
    "    plt.plot(np.log(alphas_elastic_net), [coef] * len(alphas_elastic_net), label=f'{df.columns[i+1]}')\n",
    "plt.xlabel('log(alpha)')\n",
    "plt.ylabel('Coefficienti')\n",
    "plt.title('Elastic Net Regression')\n",
    "plt.legend(loc='center left', bbox_to_anchor=(1, 0.5))\n",
    "\n",
    "plt.tight_layout()\n",
    "plt.show()"
   ]
  }
 ],
 "metadata": {
  "kernelspec": {
   "display_name": "Python 3",
   "language": "python",
   "name": "python3"
  },
  "language_info": {
   "codemirror_mode": {
    "name": "ipython",
    "version": 3
   },
   "file_extension": ".py",
   "mimetype": "text/x-python",
   "name": "python",
   "nbconvert_exporter": "python",
   "pygments_lexer": "ipython3",
   "version": "3.13.0"
  }
 },
 "nbformat": 4,
 "nbformat_minor": 2
}
